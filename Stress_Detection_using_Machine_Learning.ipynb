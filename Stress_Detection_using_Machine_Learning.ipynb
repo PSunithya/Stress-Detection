{
  "cells": [
    {
      "cell_type": "markdown",
      "metadata": {
        "id": "view-in-github",
        "colab_type": "text"
      },
      "source": [
        "<a href=\"https://colab.research.google.com/github/PSunithya/Stress-Detection/blob/main/Stress_Detection_using_Machine_Learning.ipynb\" target=\"_parent\"><img src=\"https://colab.research.google.com/assets/colab-badge.svg\" alt=\"Open In Colab\"/></a>"
      ]
    },
    {
      "cell_type": "markdown",
      "metadata": {
        "id": "ODwa2n_m9cVz"
      },
      "source": [
        "**Data Collection:**\n",
        "\n",
        "In order to predict whether a person is stressed or not, a dataset was selected from Kaggale"
      ]
    },
    {
      "cell_type": "markdown",
      "metadata": {
        "id": "i43vPTCwq89Q"
      },
      "source": [
        "# New section"
      ]
    },
    {
      "cell_type": "markdown",
      "metadata": {
        "id": "KTvDmrTp9eqP"
      },
      "source": [
        "**Importing necessary Libraries**"
      ]
    },
    {
      "cell_type": "code",
      "execution_count": null,
      "metadata": {
        "id": "eF2LHKtqpHKf"
      },
      "outputs": [],
      "source": [
        "import numpy as np\n",
        "import pandas as pd\n",
        "from sklearn import datasets, svm, metrics\n",
        "import matplotlib.pyplot as plt\n",
        "from sklearn.model_selection import train_test_split\n",
        "import seaborn as sns\n",
        "from sklearn.neighbors import KNeighborsClassifier\n",
        "from sklearn.metrics import accuracy_score\n",
        "from sklearn.metrics import classification_report\n",
        "from sklearn.metrics import confusion_matrix"
      ]
    },
    {
      "cell_type": "code",
      "execution_count": null,
      "metadata": {
        "colab": {
          "base_uri": "https://localhost:8080/"
        },
        "id": "DMQ9y_LOpWFI",
        "outputId": "cfd084f1-9eb7-465c-f557-01eee8a3e9d9"
      },
      "outputs": [
        {
          "output_type": "stream",
          "name": "stdout",
          "text": [
            "Mounted at /content/drive\n"
          ]
        }
      ],
      "source": [
        "#Load the drive helper and mount\n",
        "from google.colab import drive\n",
        "\n",
        "#This will prompt for authorization\n",
        "drive.mount('/content/drive')"
      ]
    },
    {
      "cell_type": "markdown",
      "metadata": {
        "id": "Sx_sFaJh8uFH"
      },
      "source": [
        "**Importing the dataset**"
      ]
    },
    {
      "cell_type": "code",
      "execution_count": null,
      "metadata": {
        "id": "OzWOcfxrpWKH"
      },
      "outputs": [],
      "source": [
        "trainFile=pd.read_csv(\"/content/drive/MyDrive/train (2).csv\").drop(columns=\"datasetId\")"
      ]
    },
    {
      "cell_type": "code",
      "execution_count": null,
      "metadata": {
        "id": "2Y9r2_J2pWMp"
      },
      "outputs": [],
      "source": [
        "testFile=pd.read_csv(\"/content/drive/MyDrive/test.csv\").drop(columns=\"datasetId\")"
      ]
    },
    {
      "cell_type": "markdown",
      "metadata": {
        "id": "Kvr3CAmwCN_0"
      },
      "source": [
        "**Checking for null values**"
      ]
    },
    {
      "cell_type": "code",
      "execution_count": null,
      "metadata": {
        "colab": {
          "base_uri": "https://localhost:8080/"
        },
        "id": "JfxzgWOcBnUU",
        "outputId": "4f14ad0e-f1cc-47bc-f470-47932ea5b02c"
      },
      "outputs": [
        {
          "output_type": "execute_result",
          "data": {
            "text/plain": [
              "False"
            ]
          },
          "metadata": {},
          "execution_count": 6
        }
      ],
      "source": [
        "trainFile.isnull().values.any()"
      ]
    },
    {
      "cell_type": "code",
      "execution_count": null,
      "metadata": {
        "colab": {
          "base_uri": "https://localhost:8080/"
        },
        "id": "-1oDHEFdCMt_",
        "outputId": "94803d3c-bc7a-4a2f-d7e2-523dd235097c"
      },
      "outputs": [
        {
          "output_type": "execute_result",
          "data": {
            "text/plain": [
              "False"
            ]
          },
          "metadata": {},
          "execution_count": 7
        }
      ],
      "source": [
        "testFile.isnull().values.any()"
      ]
    },
    {
      "cell_type": "markdown",
      "metadata": {
        "id": "4yR6TDst9tFo"
      },
      "source": [
        "**Data Visualization**"
      ]
    },
    {
      "cell_type": "code",
      "execution_count": null,
      "metadata": {
        "colab": {
          "base_uri": "https://localhost:8080/",
          "height": 1000
        },
        "id": "96NlMu99pWP4",
        "outputId": "5032cdc2-6238-46e6-ed51-d51f18ce84d4"
      },
      "outputs": [
        {
          "output_type": "execute_result",
          "data": {
            "text/plain": [
              "array([[<matplotlib.axes._subplots.AxesSubplot object at 0x7f2265b19130>,\n",
              "        <matplotlib.axes._subplots.AxesSubplot object at 0x7f2265a6d580>,\n",
              "        <matplotlib.axes._subplots.AxesSubplot object at 0x7f2265a9b9a0>,\n",
              "        <matplotlib.axes._subplots.AxesSubplot object at 0x7f2265a4ad90>,\n",
              "        <matplotlib.axes._subplots.AxesSubplot object at 0x7f2265a031c0>,\n",
              "        <matplotlib.axes._subplots.AxesSubplot object at 0x7f22659b24f0>],\n",
              "       [<matplotlib.axes._subplots.AxesSubplot object at 0x7f2265a79e20>,\n",
              "        <matplotlib.axes._subplots.AxesSubplot object at 0x7f2265a79e80>,\n",
              "        <matplotlib.axes._subplots.AxesSubplot object at 0x7f226593c5b0>,\n",
              "        <matplotlib.axes._subplots.AxesSubplot object at 0x7f22658ea9d0>,\n",
              "        <matplotlib.axes._subplots.AxesSubplot object at 0x7f2265917df0>,\n",
              "        <matplotlib.axes._subplots.AxesSubplot object at 0x7f22658d1220>],\n",
              "       [<matplotlib.axes._subplots.AxesSubplot object at 0x7f2265880610>,\n",
              "        <matplotlib.axes._subplots.AxesSubplot object at 0x7f2265828a00>,\n",
              "        <matplotlib.axes._subplots.AxesSubplot object at 0x7f2265858df0>,\n",
              "        <matplotlib.axes._subplots.AxesSubplot object at 0x7f2265811250>,\n",
              "        <matplotlib.axes._subplots.AxesSubplot object at 0x7f22657bf670>,\n",
              "        <matplotlib.axes._subplots.AxesSubplot object at 0x7f226576ba60>],\n",
              "       [<matplotlib.axes._subplots.AxesSubplot object at 0x7f2265799e50>,\n",
              "        <matplotlib.axes._subplots.AxesSubplot object at 0x7f2265751280>,\n",
              "        <matplotlib.axes._subplots.AxesSubplot object at 0x7f2265700670>,\n",
              "        <matplotlib.axes._subplots.AxesSubplot object at 0x7f22656aaac0>,\n",
              "        <matplotlib.axes._subplots.AxesSubplot object at 0x7f22656daeb0>,\n",
              "        <matplotlib.axes._subplots.AxesSubplot object at 0x7f2265692340>],\n",
              "       [<matplotlib.axes._subplots.AxesSubplot object at 0x7f2265641730>,\n",
              "        <matplotlib.axes._subplots.AxesSubplot object at 0x7f22655ecb20>,\n",
              "        <matplotlib.axes._subplots.AxesSubplot object at 0x7f226559cf10>,\n",
              "        <matplotlib.axes._subplots.AxesSubplot object at 0x7f22655d2340>,\n",
              "        <matplotlib.axes._subplots.AxesSubplot object at 0x7f2265581730>,\n",
              "        <matplotlib.axes._subplots.AxesSubplot object at 0x7f226552fb80>],\n",
              "       [<matplotlib.axes._subplots.AxesSubplot object at 0x7f22654dff70>,\n",
              "        <matplotlib.axes._subplots.AxesSubplot object at 0x7f22655153a0>,\n",
              "        <matplotlib.axes._subplots.AxesSubplot object at 0x7f22654c27c0>,\n",
              "        <matplotlib.axes._subplots.AxesSubplot object at 0x7f226546ebb0>,\n",
              "        <matplotlib.axes._subplots.AxesSubplot object at 0x7f226541dfd0>,\n",
              "        <matplotlib.axes._subplots.AxesSubplot object at 0x7f22654474c0>]],\n",
              "      dtype=object)"
            ]
          },
          "metadata": {},
          "execution_count": 8
        },
        {
          "output_type": "display_data",
          "data": {
            "text/plain": [
              "<Figure size 1440x1368 with 36 Axes>"
            ],
            "image/png": "[encoded data removed]"
          },
          "metadata": {
            "needs_background": "light"
          }
        }
      ],
      "source": [
        "trainFile.hist(figsize=(20,19))"
      ]
    },
    {
      "cell_type": "markdown",
      "metadata": {
        "id": "zzWi9RL4EUBh"
      },
      "source": [
        "This dataset comprises of *heart rate variability* (HRV) indices computed from the multimodal SWELL knowledge work (SWELL-KW) dataset for research on stress and user modeling . The SWELL was collected by researchers at the Institute for Computing and Information Sciences at Radboud University. It is a result of experiments conducted on 25 subjects doing typical office work (for example writing reports, making presentations, reading e-mail and searching for information). The subject went through typical working stressors such as receiving unexpected emails interruptions and pressure to complete their work on time. The experiment recorded various data including computer logging, facial expression, body postures, ECG signal, and skin conductance. The researchers also recorded the\n",
        "subjects’ subjective experience on task load, mental effort, emotion, and perceived stress. Each participant went through three different working conditions:\n",
        "\n",
        "### no stress:\n",
        "the subjects are allowed to work on the tasks as long as they needed for a maximum of 45 minutes but they are not aware of the maximum duration of their tasks.\n",
        "\n",
        "\n",
        "### time pressure:  \n",
        "during this time, the time to finish the task was reduced to 2/3 of the time the participant took in the neutral condition.\n",
        "\n",
        "### interruption:\n",
        "the participants received eight emails in the middle of their assigned tasks. Some emails were relevant to their tasks —and the participant was requested to take specific actions—while others were just irrelevant to their tasks."
      ]
    },
    {
      "cell_type": "code",
      "execution_count": null,
      "metadata": {
        "colab": {
          "base_uri": "https://localhost:8080/",
          "height": 279
        },
        "id": "bXPiqoKBqZ5Y",
        "outputId": "a5dcb6b1-7e0f-44d8-d32c-298c2b54e8ff"
      },
      "outputs": [
        {
          "output_type": "display_data",
          "data": {
            "text/plain": [
              "<Figure size 360x288 with 1 Axes>"
            ],
            "image/png": "[encoded data removed]"
          },
          "metadata": {
            "needs_background": "light"
          }
        }
      ],
      "source": [
        "plt.figure(figsize=(5, 4))\n",
        "ax = sns.countplot(x = trainFile[\"condition\"])\n",
        "ncount = len(trainFile)\n",
        "\n",
        "for p in ax.patches:\n",
        "    x=p.get_bbox().get_points()[:,0]\n",
        "    y=p.get_bbox().get_points()[1,1]\n",
        "    ax.annotate('{:.1f}%'.format(100.*y/ncount), (x.mean(), y),\n",
        "            ha='center', va='bottom') # set the alignment of the text"
      ]
    },
    {
      "cell_type": "markdown",
      "metadata": {
        "id": "IiyMku4N8Sia"
      },
      "source": [
        "**Feature selection**"
      ]
    },
    {
      "cell_type": "code",
      "execution_count": null,
      "metadata": {
        "id": "1YbrRhRBqZ7t"
      },
      "outputs": [],
      "source": [
        "#feature extraction\n",
        "X= trainFile.drop(columns='condition')\n",
        "Y= trainFile['condition']\n",
        "xtest= testFile.drop(columns='condition')\n",
        "ytest= testFile['condition']"
      ]
    },
    {
      "cell_type": "markdown",
      "metadata": {
        "id": "hebHYOXE8aFQ"
      },
      "source": [
        "**Splitting the dataset**"
      ]
    },
    {
      "cell_type": "code",
      "execution_count": null,
      "metadata": {
        "id": "F21qLCMyDs-T"
      },
      "outputs": [],
      "source": [
        "X_train, X_test, Y_train, Y_test = train_test_split(X, Y, test_size = 0.20, random_state = 0)\n"
      ]
    },
    {
      "cell_type": "markdown",
      "metadata": {
        "id": "xl3XcOCj-MgV"
      },
      "source": [
        "**Building the K Nearest Neighbors Classifier**"
      ]
    },
    {
      "cell_type": "code",
      "execution_count": null,
      "metadata": {
        "colab": {
          "base_uri": "https://localhost:8080/"
        },
        "id": "wKq5QOv7QYEf",
        "outputId": "4f6dee7e-55c0-407e-8db5-40777291cb8c"
      },
      "outputs": [
        {
          "output_type": "stream",
          "name": "stdout",
          "text": [
            "0.9936093584987409\n"
          ]
        }
      ],
      "source": [
        "knn= KNeighborsClassifier()\n",
        "knn.fit(X_train, Y_train)\n",
        "Y_pred= knn.predict(X_test)\n",
        "print(accuracy_score(Y_test, Y_pred))"
      ]
    },
    {
      "cell_type": "markdown",
      "metadata": {
        "id": "h-ODRsqJ-iXu"
      },
      "source": [
        "In order to get more understanding about the performance of the classification model, a confusion matrix has been used"
      ]
    },
    {
      "cell_type": "code",
      "execution_count": null,
      "metadata": {
        "id": "ykFoyzse6EMo",
        "colab": {
          "base_uri": "https://localhost:8080/"
        },
        "outputId": "60632514-4d40-4e93-e91c-0e85037973b7"
      },
      "outputs": [
        {
          "output_type": "stream",
          "name": "stdout",
          "text": [
            "               precision    recall  f1-score   support\n",
            "\n",
            " interruption       0.99      1.00      0.99     20868\n",
            "    no stress       0.99      0.99      0.99     40169\n",
            "time pressure       0.99      0.99      0.99     12821\n",
            "\n",
            "     accuracy                           0.99     73858\n",
            "    macro avg       0.99      0.99      0.99     73858\n",
            " weighted avg       0.99      0.99      0.99     73858\n",
            "\n"
          ]
        }
      ],
      "source": [
        "print(classification_report(Y_test, Y_pred))"
      ]
    },
    {
      "cell_type": "code",
      "execution_count": null,
      "metadata": {
        "id": "gaUCKVkp6b3F",
        "colab": {
          "base_uri": "https://localhost:8080/"
        },
        "outputId": "0704389d-a9d1-4cf6-ac42-f3a4cf4443dd"
      },
      "outputs": [
        {
          "output_type": "stream",
          "name": "stdout",
          "text": [
            "[[20764   102     2]\n",
            " [  116 39968    85]\n",
            " [   22   145 12654]]\n"
          ]
        }
      ],
      "source": [
        "print(confusion_matrix(Y_test, Y_pred))"
      ]
    },
    {
      "cell_type": "markdown",
      "metadata": {
        "id": "ysHlDgDV-vjc"
      },
      "source": [
        "**Checking for the best value of  k:**\n"
      ]
    },
    {
      "cell_type": "markdown",
      "metadata": {
        "id": "x5cZnul9-rI3"
      },
      "source": [
        "Choose a K value based on the accuracy rate"
      ]
    },
    {
      "cell_type": "code",
      "execution_count": null,
      "metadata": {
        "id": "ldqeYVcut4Vn"
      },
      "outputs": [],
      "source": [
        "from sklearn.model_selection import cross_val_score\n",
        "accuracy_rate = []\n",
        "# Calculating error for K values between 1 and 30\n",
        "for i in range(1,30):\n",
        "\n",
        "    knn = KNeighborsClassifier(n_neighbors=i)\n",
        "    score=cross_val_score(knn,X,trainFile['condition'],cv=10)\n",
        "    accuracy_rate.append(score.mean())\n",
        "\n",
        "plt.figure(figsize=(10,6))\n",
        "plt.plot(range(1,30),accuracy_rate,color='green', linestyle='dashed', marker='o',markerfacecolor='blue', markersize=10)\n",
        "plt.title('Accuracy Rate vs. K Value')\n",
        "plt.xlabel('K')\n",
        "plt.ylabel('Accuracy Rate')"
      ]
    },
    {
      "cell_type": "markdown",
      "metadata": {
        "id": "aOLbxA8U-wCg"
      },
      "source": [
        "Choose a K value based on the error rate"
      ]
    },
    {
      "cell_type": "code",
      "execution_count": null,
      "metadata": {
        "colab": {
          "base_uri": "https://localhost:8080/",
          "height": 380
        },
        "id": "MRLAQDqR5Rss",
        "outputId": "ed805c1b-fdcb-4ec1-aa66-3e8d2895a9ce"
      },
      "outputs": [
        {
          "output_type": "error",
          "ename": "KeyboardInterrupt",
          "evalue": "ignored",
          "traceback": [
            "\u001b[0;31m---------------------------------------------------------------------------\u001b[0m",
            "\u001b[0;31mKeyboardInterrupt\u001b[0m                         Traceback (most recent call last)",
            "\u001b[0;32m<ipython-input-16-dcb350d4e0e4>\u001b[0m in \u001b[0;36m<module>\u001b[0;34m\u001b[0m\n\u001b[1;32m      4\u001b[0m     \u001b[0mknn\u001b[0m \u001b[0;34m=\u001b[0m \u001b[0mKNeighborsClassifier\u001b[0m\u001b[0;34m(\u001b[0m\u001b[0mn_neighbors\u001b[0m\u001b[0;34m=\u001b[0m\u001b[0mi\u001b[0m\u001b[0;34m)\u001b[0m\u001b[0;34m\u001b[0m\u001b[0;34m\u001b[0m\u001b[0m\n\u001b[1;32m      5\u001b[0m     \u001b[0mknn\u001b[0m\u001b[0;34m.\u001b[0m\u001b[0mfit\u001b[0m\u001b[0;34m(\u001b[0m\u001b[0mX_train\u001b[0m\u001b[0;34m,\u001b[0m \u001b[0mY_train\u001b[0m\u001b[0;34m)\u001b[0m\u001b[0;34m\u001b[0m\u001b[0;34m\u001b[0m\u001b[0m\n\u001b[0;32m----> 6\u001b[0;31m     \u001b[0mpred\u001b[0m\u001b[0;34m=\u001b[0m \u001b[0mknn\u001b[0m\u001b[0;34m.\u001b[0m\u001b[0mpredict\u001b[0m\u001b[0;34m(\u001b[0m\u001b[0mX_test\u001b[0m\u001b[0;34m)\u001b[0m\u001b[0;34m\u001b[0m\u001b[0;34m\u001b[0m\u001b[0m\n\u001b[0m\u001b[1;32m      7\u001b[0m     \u001b[0merror\u001b[0m\u001b[0;34m.\u001b[0m\u001b[0mappend\u001b[0m\u001b[0;34m(\u001b[0m\u001b[0mnp\u001b[0m\u001b[0;34m.\u001b[0m\u001b[0mmean\u001b[0m\u001b[0;34m(\u001b[0m\u001b[0mpred\u001b[0m\u001b[0;34m!=\u001b[0m \u001b[0mY_test\u001b[0m\u001b[0;34m)\u001b[0m\u001b[0;34m)\u001b[0m\u001b[0;34m\u001b[0m\u001b[0;34m\u001b[0m\u001b[0m\n\u001b[1;32m      8\u001b[0m \u001b[0mplt\u001b[0m\u001b[0;34m.\u001b[0m\u001b[0mfigure\u001b[0m\u001b[0;34m(\u001b[0m\u001b[0mfigsize\u001b[0m\u001b[0;34m=\u001b[0m\u001b[0;34m(\u001b[0m\u001b[0;36m12\u001b[0m\u001b[0;34m,\u001b[0m \u001b[0;36m6\u001b[0m\u001b[0;34m)\u001b[0m\u001b[0;34m)\u001b[0m\u001b[0;34m\u001b[0m\u001b[0;34m\u001b[0m\u001b[0m\n",
            "\u001b[0;32m/usr/local/lib/python3.7/dist-packages/sklearn/neighbors/_classification.py\u001b[0m in \u001b[0;36mpredict\u001b[0;34m(self, X)\u001b[0m\n\u001b[1;32m    212\u001b[0m             \u001b[0mClass\u001b[0m \u001b[0mlabels\u001b[0m \u001b[0;32mfor\u001b[0m \u001b[0meach\u001b[0m \u001b[0mdata\u001b[0m \u001b[0msample\u001b[0m\u001b[0;34m.\u001b[0m\u001b[0;34m\u001b[0m\u001b[0;34m\u001b[0m\u001b[0m\n\u001b[1;32m    213\u001b[0m         \"\"\"\n\u001b[0;32m--> 214\u001b[0;31m         \u001b[0mneigh_dist\u001b[0m\u001b[0;34m,\u001b[0m \u001b[0mneigh_ind\u001b[0m \u001b[0;34m=\u001b[0m \u001b[0mself\u001b[0m\u001b[0;34m.\u001b[0m\u001b[0mkneighbors\u001b[0m\u001b[0;34m(\u001b[0m\u001b[0mX\u001b[0m\u001b[0;34m)\u001b[0m\u001b[0;34m\u001b[0m\u001b[0;34m\u001b[0m\u001b[0m\n\u001b[0m\u001b[1;32m    215\u001b[0m         \u001b[0mclasses_\u001b[0m \u001b[0;34m=\u001b[0m \u001b[0mself\u001b[0m\u001b[0;34m.\u001b[0m\u001b[0mclasses_\u001b[0m\u001b[0;34m\u001b[0m\u001b[0;34m\u001b[0m\u001b[0m\n\u001b[1;32m    216\u001b[0m         \u001b[0m_y\u001b[0m \u001b[0;34m=\u001b[0m \u001b[0mself\u001b[0m\u001b[0;34m.\u001b[0m\u001b[0m_y\u001b[0m\u001b[0;34m\u001b[0m\u001b[0;34m\u001b[0m\u001b[0m\n",
            "\u001b[0;32m/usr/local/lib/python3.7/dist-packages/sklearn/neighbors/_base.py\u001b[0m in \u001b[0;36mkneighbors\u001b[0;34m(self, X, n_neighbors, return_distance)\u001b[0m\n\u001b[1;32m    757\u001b[0m                     \u001b[0mmetric\u001b[0m\u001b[0;34m=\u001b[0m\u001b[0mself\u001b[0m\u001b[0;34m.\u001b[0m\u001b[0meffective_metric_\u001b[0m\u001b[0;34m,\u001b[0m\u001b[0;34m\u001b[0m\u001b[0;34m\u001b[0m\u001b[0m\n\u001b[1;32m    758\u001b[0m                     \u001b[0mn_jobs\u001b[0m\u001b[0;34m=\u001b[0m\u001b[0mn_jobs\u001b[0m\u001b[0;34m,\u001b[0m\u001b[0;34m\u001b[0m\u001b[0;34m\u001b[0m\u001b[0m\n\u001b[0;32m--> 759\u001b[0;31m                     \u001b[0;34m**\u001b[0m\u001b[0mkwds\u001b[0m\u001b[0;34m,\u001b[0m\u001b[0;34m\u001b[0m\u001b[0;34m\u001b[0m\u001b[0m\n\u001b[0m\u001b[1;32m    760\u001b[0m                 )\n\u001b[1;32m    761\u001b[0m             )\n",
            "\u001b[0;32m/usr/local/lib/python3.7/dist-packages/sklearn/metrics/pairwise.py\u001b[0m in \u001b[0;36mpairwise_distances_chunked\u001b[0;34m(X, Y, reduce_func, metric, n_jobs, working_memory, **kwds)\u001b[0m\n\u001b[1;32m   1715\u001b[0m         \u001b[0;32melse\u001b[0m\u001b[0;34m:\u001b[0m\u001b[0;34m\u001b[0m\u001b[0;34m\u001b[0m\u001b[0m\n\u001b[1;32m   1716\u001b[0m             \u001b[0mX_chunk\u001b[0m \u001b[0;34m=\u001b[0m \u001b[0mX\u001b[0m\u001b[0;34m[\u001b[0m\u001b[0msl\u001b[0m\u001b[0;34m]\u001b[0m\u001b[0;34m\u001b[0m\u001b[0;34m\u001b[0m\u001b[0m\n\u001b[0;32m-> 1717\u001b[0;31m         \u001b[0mD_chunk\u001b[0m \u001b[0;34m=\u001b[0m \u001b[0mpairwise_distances\u001b[0m\u001b[0;34m(\u001b[0m\u001b[0mX_chunk\u001b[0m\u001b[0;34m,\u001b[0m \u001b[0mY\u001b[0m\u001b[0;34m,\u001b[0m \u001b[0mmetric\u001b[0m\u001b[0;34m=\u001b[0m\u001b[0mmetric\u001b[0m\u001b[0;34m,\u001b[0m \u001b[0mn_jobs\u001b[0m\u001b[0;34m=\u001b[0m\u001b[0mn_jobs\u001b[0m\u001b[0;34m,\u001b[0m \u001b[0;34m**\u001b[0m\u001b[0mkwds\u001b[0m\u001b[0;34m)\u001b[0m\u001b[0;34m\u001b[0m\u001b[0;34m\u001b[0m\u001b[0m\n\u001b[0m\u001b[1;32m   1718\u001b[0m         if (X is Y or Y is None) and PAIRWISE_DISTANCE_FUNCTIONS.get(\n\u001b[1;32m   1719\u001b[0m             \u001b[0mmetric\u001b[0m\u001b[0;34m,\u001b[0m \u001b[0;32mNone\u001b[0m\u001b[0;34m\u001b[0m\u001b[0;34m\u001b[0m\u001b[0m\n",
            "\u001b[0;32m/usr/local/lib/python3.7/dist-packages/sklearn/metrics/pairwise.py\u001b[0m in \u001b[0;36mpairwise_distances\u001b[0;34m(X, Y, metric, n_jobs, force_all_finite, **kwds)\u001b[0m\n\u001b[1;32m   1887\u001b[0m         \u001b[0mfunc\u001b[0m \u001b[0;34m=\u001b[0m \u001b[0mpartial\u001b[0m\u001b[0;34m(\u001b[0m\u001b[0mdistance\u001b[0m\u001b[0;34m.\u001b[0m\u001b[0mcdist\u001b[0m\u001b[0;34m,\u001b[0m \u001b[0mmetric\u001b[0m\u001b[0;34m=\u001b[0m\u001b[0mmetric\u001b[0m\u001b[0;34m,\u001b[0m \u001b[0;34m**\u001b[0m\u001b[0mkwds\u001b[0m\u001b[0;34m)\u001b[0m\u001b[0;34m\u001b[0m\u001b[0;34m\u001b[0m\u001b[0m\n\u001b[1;32m   1888\u001b[0m \u001b[0;34m\u001b[0m\u001b[0m\n\u001b[0;32m-> 1889\u001b[0;31m     \u001b[0;32mreturn\u001b[0m \u001b[0m_parallel_pairwise\u001b[0m\u001b[0;34m(\u001b[0m\u001b[0mX\u001b[0m\u001b[0;34m,\u001b[0m \u001b[0mY\u001b[0m\u001b[0;34m,\u001b[0m \u001b[0mfunc\u001b[0m\u001b[0;34m,\u001b[0m \u001b[0mn_jobs\u001b[0m\u001b[0;34m,\u001b[0m \u001b[0;34m**\u001b[0m\u001b[0mkwds\u001b[0m\u001b[0;34m)\u001b[0m\u001b[0;34m\u001b[0m\u001b[0;34m\u001b[0m\u001b[0m\n\u001b[0m\u001b[1;32m   1890\u001b[0m \u001b[0;34m\u001b[0m\u001b[0m\n\u001b[1;32m   1891\u001b[0m \u001b[0;34m\u001b[0m\u001b[0m\n",
            "\u001b[0;32m/usr/local/lib/python3.7/dist-packages/sklearn/metrics/pairwise.py\u001b[0m in \u001b[0;36m_parallel_pairwise\u001b[0;34m(X, Y, func, n_jobs, **kwds)\u001b[0m\n\u001b[1;32m   1428\u001b[0m \u001b[0;34m\u001b[0m\u001b[0m\n\u001b[1;32m   1429\u001b[0m     \u001b[0;32mif\u001b[0m \u001b[0meffective_n_jobs\u001b[0m\u001b[0;34m(\u001b[0m\u001b[0mn_jobs\u001b[0m\u001b[0;34m)\u001b[0m \u001b[0;34m==\u001b[0m \u001b[0;36m1\u001b[0m\u001b[0;34m:\u001b[0m\u001b[0;34m\u001b[0m\u001b[0;34m\u001b[0m\u001b[0m\n\u001b[0;32m-> 1430\u001b[0;31m         \u001b[0;32mreturn\u001b[0m \u001b[0mfunc\u001b[0m\u001b[0;34m(\u001b[0m\u001b[0mX\u001b[0m\u001b[0;34m,\u001b[0m \u001b[0mY\u001b[0m\u001b[0;34m,\u001b[0m \u001b[0;34m**\u001b[0m\u001b[0mkwds\u001b[0m\u001b[0;34m)\u001b[0m\u001b[0;34m\u001b[0m\u001b[0;34m\u001b[0m\u001b[0m\n\u001b[0m\u001b[1;32m   1431\u001b[0m \u001b[0;34m\u001b[0m\u001b[0m\n\u001b[1;32m   1432\u001b[0m     \u001b[0;31m# enforce a threading backend to prevent data communication overhead\u001b[0m\u001b[0;34m\u001b[0m\u001b[0;34m\u001b[0m\u001b[0;34m\u001b[0m\u001b[0m\n",
            "\u001b[0;32m/usr/local/lib/python3.7/dist-packages/sklearn/metrics/pairwise.py\u001b[0m in \u001b[0;36meuclidean_distances\u001b[0;34m(X, Y, Y_norm_squared, squared, X_norm_squared)\u001b[0m\n\u001b[1;32m    328\u001b[0m             )\n\u001b[1;32m    329\u001b[0m \u001b[0;34m\u001b[0m\u001b[0m\n\u001b[0;32m--> 330\u001b[0;31m     \u001b[0;32mreturn\u001b[0m \u001b[0m_euclidean_distances\u001b[0m\u001b[0;34m(\u001b[0m\u001b[0mX\u001b[0m\u001b[0;34m,\u001b[0m \u001b[0mY\u001b[0m\u001b[0;34m,\u001b[0m \u001b[0mX_norm_squared\u001b[0m\u001b[0;34m,\u001b[0m \u001b[0mY_norm_squared\u001b[0m\u001b[0;34m,\u001b[0m \u001b[0msquared\u001b[0m\u001b[0;34m)\u001b[0m\u001b[0;34m\u001b[0m\u001b[0;34m\u001b[0m\u001b[0m\n\u001b[0m\u001b[1;32m    331\u001b[0m \u001b[0;34m\u001b[0m\u001b[0m\n\u001b[1;32m    332\u001b[0m \u001b[0;34m\u001b[0m\u001b[0m\n",
            "\u001b[0;32m/usr/local/lib/python3.7/dist-packages/sklearn/metrics/pairwise.py\u001b[0m in \u001b[0;36m_euclidean_distances\u001b[0;34m(X, Y, X_norm_squared, Y_norm_squared, squared)\u001b[0m\n\u001b[1;32m    369\u001b[0m     \u001b[0;32melse\u001b[0m\u001b[0;34m:\u001b[0m\u001b[0;34m\u001b[0m\u001b[0;34m\u001b[0m\u001b[0m\n\u001b[1;32m    370\u001b[0m         \u001b[0;31m# if dtype is already float64, no need to chunk and upcast\u001b[0m\u001b[0;34m\u001b[0m\u001b[0;34m\u001b[0m\u001b[0;34m\u001b[0m\u001b[0m\n\u001b[0;32m--> 371\u001b[0;31m         \u001b[0mdistances\u001b[0m \u001b[0;34m=\u001b[0m \u001b[0;34m-\u001b[0m\u001b[0;36m2\u001b[0m \u001b[0;34m*\u001b[0m \u001b[0msafe_sparse_dot\u001b[0m\u001b[0;34m(\u001b[0m\u001b[0mX\u001b[0m\u001b[0;34m,\u001b[0m \u001b[0mY\u001b[0m\u001b[0;34m.\u001b[0m\u001b[0mT\u001b[0m\u001b[0;34m,\u001b[0m \u001b[0mdense_output\u001b[0m\u001b[0;34m=\u001b[0m\u001b[0;32mTrue\u001b[0m\u001b[0;34m)\u001b[0m\u001b[0;34m\u001b[0m\u001b[0;34m\u001b[0m\u001b[0m\n\u001b[0m\u001b[1;32m    372\u001b[0m         \u001b[0mdistances\u001b[0m \u001b[0;34m+=\u001b[0m \u001b[0mXX\u001b[0m\u001b[0;34m\u001b[0m\u001b[0;34m\u001b[0m\u001b[0m\n\u001b[1;32m    373\u001b[0m         \u001b[0mdistances\u001b[0m \u001b[0;34m+=\u001b[0m \u001b[0mYY\u001b[0m\u001b[0;34m\u001b[0m\u001b[0;34m\u001b[0m\u001b[0m\n",
            "\u001b[0;32m/usr/local/lib/python3.7/dist-packages/sklearn/utils/extmath.py\u001b[0m in \u001b[0;36msafe_sparse_dot\u001b[0;34m(a, b, dense_output)\u001b[0m\n\u001b[1;32m    151\u001b[0m             \u001b[0mret\u001b[0m \u001b[0;34m=\u001b[0m \u001b[0mnp\u001b[0m\u001b[0;34m.\u001b[0m\u001b[0mdot\u001b[0m\u001b[0;34m(\u001b[0m\u001b[0ma\u001b[0m\u001b[0;34m,\u001b[0m \u001b[0mb\u001b[0m\u001b[0;34m)\u001b[0m\u001b[0;34m\u001b[0m\u001b[0;34m\u001b[0m\u001b[0m\n\u001b[1;32m    152\u001b[0m     \u001b[0;32melse\u001b[0m\u001b[0;34m:\u001b[0m\u001b[0;34m\u001b[0m\u001b[0;34m\u001b[0m\u001b[0m\n\u001b[0;32m--> 153\u001b[0;31m         \u001b[0mret\u001b[0m \u001b[0;34m=\u001b[0m \u001b[0ma\u001b[0m \u001b[0;34m@\u001b[0m \u001b[0mb\u001b[0m\u001b[0;34m\u001b[0m\u001b[0;34m\u001b[0m\u001b[0m\n\u001b[0m\u001b[1;32m    154\u001b[0m \u001b[0;34m\u001b[0m\u001b[0m\n\u001b[1;32m    155\u001b[0m     if (\n",
            "\u001b[0;31mKeyboardInterrupt\u001b[0m: "
          ]
        }
      ],
      "source": [
        "error = []\n",
        "# Calculating error for K values between 1 and 30\n",
        "for i in range(1, 30):\n",
        "    knn = KNeighborsClassifier(n_neighbors=i)\n",
        "    knn.fit(X_train, Y_train)\n",
        "    pred= knn.predict(X_test)\n",
        "    error.append(np.mean(pred!= Y_test))\n",
        "plt.figure(figsize=(12, 6))\n",
        "plt.plot(range(1, 30), error, color='red', linestyle='dashed', marker='o',\n",
        "         markerfacecolor='blue', markersize=10)\n",
        "plt.title('Error Rate K Value')\n",
        "plt.xlabel('K Value')\n",
        "plt.ylabel('Mean Error')\n",
        "print(\"Minimum error:-\",min(error),\"at K =\",error.index(min(error))+1)"
      ]
    },
    {
      "cell_type": "markdown",
      "metadata": {
        "id": "2_NkupgX-7yK"
      },
      "source": [
        "Therefore, we can assume K=1 is a very good value after the K value selection process. After selecting the best K value we can again run the algorithm with the new K value which equals 1."
      ]
    },
    {
      "cell_type": "code",
      "execution_count": null,
      "metadata": {
        "id": "1JQbL5iuvw_p"
      },
      "outputs": [],
      "source": [
        "knn= KNeighborsClassifier(n_neighbors=1)\n",
        "knn.fit(X_train, Y_train)\n",
        "Y_pred= knn.predict(X_test)"
      ]
    },
    {
      "cell_type": "markdown",
      "metadata": {
        "id": "nsUJY4Aj_AT7"
      },
      "source": [
        "Check for the accuracy:"
      ]
    },
    {
      "cell_type": "code",
      "execution_count": null,
      "metadata": {
        "colab": {
          "base_uri": "https://localhost:8080/"
        },
        "id": "nwFh3mQ0CS7o",
        "outputId": "a96630b1-3ddb-4832-b69d-c4df1281ac5b"
      },
      "outputs": [
        {
          "name": "stdout",
          "output_type": "stream",
          "text": [
            "0.9972108640905522\n"
          ]
        }
      ],
      "source": [
        "print(accuracy_score(Y_test, Y_pred))"
      ]
    },
    {
      "cell_type": "code",
      "execution_count": null,
      "metadata": {
        "colab": {
          "base_uri": "https://localhost:8080/"
        },
        "id": "ffzenNd03udR",
        "outputId": "b5074f1e-a675-4145-ffff-5b2936f38345"
      },
      "outputs": [
        {
          "name": "stdout",
          "output_type": "stream",
          "text": [
            "               precision    recall  f1-score   support\n",
            "\n",
            " interruption       1.00      1.00      1.00     20868\n",
            "    no stress       1.00      1.00      1.00     40169\n",
            "time pressure       1.00      0.99      1.00     12821\n",
            "\n",
            "     accuracy                           1.00     73858\n",
            "    macro avg       1.00      1.00      1.00     73858\n",
            " weighted avg       1.00      1.00      1.00     73858\n",
            "\n"
          ]
        }
      ],
      "source": [
        "print(classification_report(Y_test, Y_pred))"
      ]
    },
    {
      "cell_type": "code",
      "execution_count": null,
      "metadata": {
        "colab": {
          "base_uri": "https://localhost:8080/"
        },
        "id": "yzRHHBPq3xq4",
        "outputId": "0d6e9b2c-e1c1-4efc-ce4b-00743dc73a75"
      },
      "outputs": [
        {
          "name": "stdout",
          "output_type": "stream",
          "text": [
            "[[20825    42     1]\n",
            " [   46 40084    39]\n",
            " [    6    72 12743]]\n"
          ]
        }
      ],
      "source": [
        "print(confusion_matrix(Y_test, Y_pred))"
      ]
    },
    {
      "cell_type": "markdown",
      "metadata": {
        "id": "6oKcwbYCVsQg"
      },
      "source": [
        "**Save model using pickle**"
      ]
    },
    {
      "cell_type": "code",
      "execution_count": null,
      "metadata": {
        "id": "KFGHdNtLqaCM"
      },
      "outputs": [],
      "source": [
        "import pickle\n",
        "knnPickle = open('knnpickle_file', 'wb')\n",
        "# source, destination\n",
        "pickle.dump(knn, knnPickle)\n",
        "knnPickle.close()"
      ]
    },
    {
      "cell_type": "code",
      "execution_count": null,
      "metadata": {
        "id": "W_Pzn1uJqaEj"
      },
      "outputs": [],
      "source": [
        "loaded_model=pickle.load(open('knnpickle_file','rb'))"
      ]
    },
    {
      "cell_type": "code",
      "execution_count": null,
      "metadata": {
        "colab": {
          "base_uri": "https://localhost:8080/"
        },
        "id": "7kw73zuzXsH0",
        "outputId": "a5d5a276-4441-4717-c590-d8e2129071df"
      },
      "outputs": [
        {
          "data": {
            "text/plain": [
              "array(['no stress'], dtype=object)"
            ]
          },
          "execution_count": 31,
          "metadata": {},
          "output_type": "execute_result"
        }
      ],
      "source": [
        "i=0\n",
        "loaded_model.predict([X_test.iloc[i]])"
      ]
    },
    {
      "cell_type": "code",
      "execution_count": null,
      "metadata": {
        "colab": {
          "base_uri": "https://localhost:8080/"
        },
        "id": "X0uAZ6OLqaI7",
        "outputId": "5a582668-6be5-440a-e247-e224754a84ab"
      },
      "outputs": [
        {
          "name": "stdout",
          "output_type": "stream",
          "text": [
            "Please Give the value MEAN_RR:832\n",
            "Please Give the value MEDIAN_RR:834\n",
            "Please Give the value SDRR:80\n",
            "Please Give the value RMSSD:5\n",
            "Please Give the value SDSD:15\n",
            "Please Give the value SDRR_RMSSD:6\n",
            "Please Give the value HR:70\n",
            "Please Give the value pNN25:8\n",
            "Please Give the value pNN50:0\n",
            "Please Give the value SD1:10\n",
            "Please Give the value SD2:120\n",
            "Please Give the value KURT:0\n",
            "Please Give the value SKEW:1\n",
            "Please Give the value MEAN_REL_RR:1\n",
            "Please Give the value MEDIAN_REL_RR:0\n",
            "Please Give the value SDRR_REL_RR:1\n",
            "Please Give the value RMSSD_REL_RR:0\n",
            "Please Give the value SDSD_REL_RR:1\n",
            "Please Give the value SDRR_RMSSD_REL_RR:3\n",
            "Please Give the value KURT_REL_RR:0\n",
            "Please Give the value SKEW_REL_RR:1\n",
            "Please Give the value VLF:1520\n",
            "Please Give the value VLF_PCT:60\n",
            "Please Give the value LF:900\n",
            "Please Give the value LF_PCT:45\n",
            "Please Give the value LF_NU:100\n",
            "Please Give the value HF:10\n",
            "Please Give the value HF_PCT:0.9\n",
            "Please Give the value HF_NU:1.8\n",
            "Please Give the value TP:2427\n",
            "Please Give the value LF_HF:60\n",
            "Please Give the value HF_LF:0.02\n",
            "Please Give the value sampen:2.2\n",
            "Please Give the value higuci:1.17\n"
          ]
        },
        {
          "data": {
            "text/plain": [
              "array(['interruption'], dtype=object)"
            ]
          },
          "execution_count": 63,
          "metadata": {},
          "output_type": "execute_result"
        }
      ],
      "source": [
        "l=[]\n",
        "for i in list(trainFile.columns[:-1]):\n",
        "    l.append(float(input(\"Please Give the value {0}:\".format(i))))\n",
        "\n",
        "loaded_model.predict([l])\n"
      ]
    }
  ],
  "metadata": {
    "colab": {
      "provenance": [],
      "include_colab_link": true
    },
    "kernelspec": {
      "display_name": "Python 3",
      "name": "python3"
    },
    "language_info": {
      "name": "python"
    }
  },
  "nbformat": 4,
  "nbformat_minor": 0
}